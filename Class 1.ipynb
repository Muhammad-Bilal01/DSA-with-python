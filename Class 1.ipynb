{
 "cells": [
  {
   "cell_type": "markdown",
   "id": "8c644a4b",
   "metadata": {},
   "source": [
    "# Python For DSA\n",
    "\n",
    "This is my first class of learning python. "
   ]
  },
  {
   "cell_type": "markdown",
   "id": "9b8499c8",
   "metadata": {},
   "source": [
    "# Print Function\n",
    "\n",
    "Print Function is used to display information."
   ]
  },
  {
   "cell_type": "code",
   "execution_count": 2,
   "id": "be2e7eff",
   "metadata": {},
   "outputs": [
    {
     "name": "stdout",
     "output_type": "stream",
     "text": [
      "Hello World\n"
     ]
    }
   ],
   "source": [
    "print(\"Hello World\")"
   ]
  },
  {
   "cell_type": "code",
   "execution_count": 8,
   "id": "d0fd1be8",
   "metadata": {},
   "outputs": [
    {
     "name": "stdout",
     "output_type": "stream",
     "text": [
      "Muhammad Bilal Rehman Khan\n"
     ]
    }
   ],
   "source": [
    "# Print with multi values\n",
    "\n",
    "print(\"Muhammad\",\"Bilal\",\"Rehman\",\"Khan\")"
   ]
  },
  {
   "cell_type": "code",
   "execution_count": 11,
   "id": "d5fdd533",
   "metadata": {},
   "outputs": [
    {
     "name": "stdout",
     "output_type": "stream",
     "text": [
      "Muhammad Bilal 12 True ['ok', 'great']\n"
     ]
    }
   ],
   "source": [
    "# print multi value with different data types.\n",
    "\n",
    "print(\"Muhammad Bilal\", 12,True,[\"ok\",\"great\"])\n"
   ]
  },
  {
   "cell_type": "markdown",
   "id": "6b0c5341",
   "metadata": {},
   "source": [
    "to show the defination of any function use [shift+tab] "
   ]
  },
  {
   "cell_type": "code",
   "execution_count": 13,
   "id": "f9ff58a9",
   "metadata": {},
   "outputs": [
    {
     "name": "stdout",
     "output_type": "stream",
     "text": [
      "Hello-This-is-Muhammad-Bilal.\n"
     ]
    }
   ],
   "source": [
    "# we can change the character of separator\n",
    "print(\"Hello\",\"This\",\"is\",\"Muhammad\",\"Bilal.\", sep=\"-\")"
   ]
  },
  {
   "cell_type": "code",
   "execution_count": 16,
   "id": "2a89d82e",
   "metadata": {},
   "outputs": [
    {
     "name": "stdout",
     "output_type": "stream",
     "text": [
      "Hello World\n",
      "This is in new line\n"
     ]
    }
   ],
   "source": [
    "# every time we use print function it start with a new line \n",
    "# we can also change that is python\n",
    "\n",
    "# Before changing\n",
    "print(\"Hello World\")\n",
    "print(\"This is in new line\")\n",
    "\n"
   ]
  },
  {
   "cell_type": "code",
   "execution_count": 17,
   "id": "9118dca9",
   "metadata": {},
   "outputs": [
    {
     "name": "stdout",
     "output_type": "stream",
     "text": [
      "Hello World101This is in new line\n"
     ]
    }
   ],
   "source": [
    "# Before changing\n",
    "print(\"Hello World\",end=\"101\")\n",
    "print(\"This is in new line\")"
   ]
  }
 ],
 "metadata": {
  "kernelspec": {
   "display_name": "Python 3 (ipykernel)",
   "language": "python",
   "name": "python3"
  },
  "language_info": {
   "codemirror_mode": {
    "name": "ipython",
    "version": 3
   },
   "file_extension": ".py",
   "mimetype": "text/x-python",
   "name": "python",
   "nbconvert_exporter": "python",
   "pygments_lexer": "ipython3",
   "version": "3.11.4"
  }
 },
 "nbformat": 4,
 "nbformat_minor": 5
}
