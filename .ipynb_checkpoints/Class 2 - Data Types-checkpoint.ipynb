{
 "cells": [
  {
   "cell_type": "markdown",
   "id": "aaf58936",
   "metadata": {},
   "source": [
    "# Data Types\n",
    "\n",
    "Python supports 3 categories of data types.\n",
    "- Basic Types - (integer,float,complex,boolean and string)\n",
    "- Container Types - (List,Tuples, Sets and Dictionary)\n",
    "- User-defined Types - Class"
   ]
  },
  {
   "cell_type": "code",
   "execution_count": 4,
   "id": "eeca083f",
   "metadata": {},
   "outputs": [
    {
     "name": "stdout",
     "output_type": "stream",
     "text": [
      "4\n",
      "inf\n"
     ]
    }
   ],
   "source": [
    "# integer\n",
    "print(4)\n",
    "print(1e309) # Range"
   ]
  },
  {
   "cell_type": "code",
   "execution_count": 7,
   "id": "9dc8ef4d",
   "metadata": {},
   "outputs": [
    {
     "name": "stdout",
     "output_type": "stream",
     "text": [
      "4.5\n",
      "1.7e+308\n"
     ]
    }
   ],
   "source": [
    "# float\n",
    "print(4.5)\n",
    "print(1.7e308) # Range"
   ]
  },
  {
   "cell_type": "code",
   "execution_count": 9,
   "id": "5a8e2221",
   "metadata": {},
   "outputs": [
    {
     "name": "stdout",
     "output_type": "stream",
     "text": [
      "True\n",
      "False\n"
     ]
    }
   ],
   "source": [
    "# boolean\n",
    "print(True)\n",
    "print(False)"
   ]
  },
  {
   "cell_type": "code",
   "execution_count": 11,
   "id": "46a357c7",
   "metadata": {},
   "outputs": [
    {
     "name": "stdout",
     "output_type": "stream",
     "text": [
      "(4+5j)\n"
     ]
    }
   ],
   "source": [
    "# complex\n",
    "print(4+5j)"
   ]
  },
  {
   "cell_type": "code",
   "execution_count": 13,
   "id": "01186f11",
   "metadata": {},
   "outputs": [
    {
     "name": "stdout",
     "output_type": "stream",
     "text": [
      "Kolkata\n",
      "Kolkata\n",
      "Kolkata\n"
     ]
    }
   ],
   "source": [
    "# string\n",
    "print('Kolkata')\n",
    "print(\"Kolkata\")\n",
    "print(\"\"\"Kolkata\"\"\")"
   ]
  },
  {
   "cell_type": "code",
   "execution_count": 15,
   "id": "e93f533e",
   "metadata": {},
   "outputs": [
    {
     "name": "stdout",
     "output_type": "stream",
     "text": [
      "[1, 2, 3, 4, 5]\n"
     ]
    }
   ],
   "source": [
    "# list\n",
    "print([1,2,3,4,5])"
   ]
  },
  {
   "cell_type": "code",
   "execution_count": 17,
   "id": "6df0a656",
   "metadata": {},
   "outputs": [
    {
     "name": "stdout",
     "output_type": "stream",
     "text": [
      "(1, 2, 3, 4, 5)\n"
     ]
    }
   ],
   "source": [
    "# tuple\n",
    "print((1,2,3,4,5))"
   ]
  },
  {
   "cell_type": "code",
   "execution_count": 18,
   "id": "52799298",
   "metadata": {},
   "outputs": [
    {
     "name": "stdout",
     "output_type": "stream",
     "text": [
      "{1, 2, 3, 4, 5}\n"
     ]
    }
   ],
   "source": [
    "#sets\n",
    "print({1,2,3,4,5})"
   ]
  },
  {
   "cell_type": "code",
   "execution_count": 19,
   "id": "44b223f1",
   "metadata": {},
   "outputs": [
    {
     "name": "stdout",
     "output_type": "stream",
     "text": [
      "{'Name': 'Nitish', 'Age': 30, 'gender': 'Male'}\n"
     ]
    }
   ],
   "source": [
    "# dict\n",
    "print({\"Name\":\"Nitish\",\"Age\":30,\"gender\":\"Male\"})\n"
   ]
  },
  {
   "cell_type": "markdown",
   "id": "dd1ec9ba",
   "metadata": {},
   "source": [
    "## Comments\n",
    "\n",
    "In python, we used comment to refer the functionality of the code.\n",
    "Comments is something which is not interpreted by the compiler."
   ]
  },
  {
   "cell_type": "code",
   "execution_count": null,
   "id": "be63f8c5",
   "metadata": {},
   "outputs": [],
   "source": [
    "# Comment in python"
   ]
  }
 ],
 "metadata": {
  "kernelspec": {
   "display_name": "Python 3 (ipykernel)",
   "language": "python",
   "name": "python3"
  },
  "language_info": {
   "codemirror_mode": {
    "name": "ipython",
    "version": 3
   },
   "file_extension": ".py",
   "mimetype": "text/x-python",
   "name": "python",
   "nbconvert_exporter": "python",
   "pygments_lexer": "ipython3",
   "version": "3.11.4"
  }
 },
 "nbformat": 4,
 "nbformat_minor": 5
}
